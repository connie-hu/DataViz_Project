{
 "cells": [
  {
   "cell_type": "code",
   "execution_count": 4,
   "metadata": {},
   "outputs": [],
   "source": [
    "# Dependencies\n",
    "import numpy as np\n",
    "import pandas as pd\n",
    "import matplotlib.pyplot as plt\n",
    "import requests\n",
    "from census import Census\n",
    "from us import states\n",
    "# Census  API Keys\n",
    "from config import api_key\n",
    "c = Census(api_key, year=2016)\n",
    "\n",
    "\n"
   ]
  },
  {
   "cell_type": "code",
   "execution_count": 6,
   "metadata": {},
   "outputs": [],
   "source": [
    "census_data = c.acs5.get((\"NAME\",\"B01003_001E\",\n",
    "                          \"B19001_017E\",\n",
    "                          \"B19113_001E\",\n",
    "                          \"B25002_002E\"),{'for':'zip code tabulation area:*'})\n",
    "\n"
   ]
  },
  {
   "cell_type": "code",
   "execution_count": 7,
   "metadata": {},
   "outputs": [],
   "source": [
    "# Convert to DataFrame\n",
    "census_df = pd.DataFrame(census_data)\n",
    "\n",
    "# Column Reordering\n",
    "census_df = census_df.rename(columns={\"B01003_001E\": \"Population\",\n",
    "                                     \"B25002_002E\": \"Households\",\n",
    "                                     \"B19113_001E\": \"Median family income\",\n",
    "                                     \"B19001_017E\":\"Households with household income $200,000 or more\",\n",
    "                                     \"NAME\": \"Name\", \"zip code tabulation area\": \"Zipcode\"})\n",
    "\n"
   ]
  },
  {
   "cell_type": "code",
   "execution_count": null,
   "metadata": {},
   "outputs": [],
   "source": [
    "census_df.sort_values(\"Median family income\", ascending=True).head()"
   ]
  },
  {
   "cell_type": "code",
   "execution_count": null,
   "metadata": {},
   "outputs": [],
   "source": [
    "#clean data -removed non-sensical data\n",
    "cleaned_census_df = census_df[census_df['Median family income'] > 0 ] \n",
    "cleaned_census_df.sort_values(\"Median family income\", ascending=True).head()\n"
   ]
  },
  {
   "cell_type": "code",
   "execution_count": null,
   "metadata": {},
   "outputs": [],
   "source": [
    "income_df = cleaned_census_df.copy()\n",
    "\n",
    "# calculate % \"rich\"(over200k)\n",
    "\n",
    "income_df[\"Percent of households with income over $200,000\"] = income_df[\"Households with household income $200,000 or more\"]/income_df[\"Households\"]*100\n",
    "\n",
    "\n",
    "income_df.head()"
   ]
  },
  {
   "cell_type": "code",
   "execution_count": null,
   "metadata": {},
   "outputs": [],
   "source": [
    "income_df['ZipCode'] = income_df['zipcode'].astype(str)\n",
    "income_df.dtypes"
   ]
  },
  {
   "cell_type": "code",
   "execution_count": null,
   "metadata": {},
   "outputs": [],
   "source": [
    "income_df.to_csv('incomebyzip.csv')"
   ]
  },
  {
   "cell_type": "code",
   "execution_count": null,
   "metadata": {},
   "outputs": [],
   "source": []
  },
  {
   "cell_type": "code",
   "execution_count": null,
   "metadata": {},
   "outputs": [],
   "source": [
    "housing_cost_data = c.acs5.get((\"NAME\",\"B25001_001E\",\n",
    "                          'B25002_002E',\n",
    "                          \"B25003_002E\",\n",
    "                          \"B25075_025E\",\n",
    "                          \"B25075_026E\",\n",
    "                          \"B25075_027E\",\n",
    "                          \"B25077_001E\",\n",
    "                          \"B25064_001E\"),{'for':'zip code tabulation area:*'})\n"
   ]
  },
  {
   "cell_type": "code",
   "execution_count": null,
   "metadata": {},
   "outputs": [],
   "source": [
    "# Convert to DataFrame\n",
    "housing_cost_data_df = pd.DataFrame(housing_cost_data)\n",
    "\n",
    "# Column Reordering\n",
    "housing_cost_data_df = housing_cost_data_df.rename(columns={\"B25001_001E\":\"Total housing units\",\n",
    "                          'B25002_002E':\"Occupied housing units (households)\",\n",
    "                          \"B25003_002E\":\"Owner Occupied housing units\",\n",
    "                          \"B25075_025E\":\"Housing units value $1,000,000 to $1,499,999 (owner occupied)\",\n",
    "                          \"B25075_026E\":\"Housing units with value $1,500,000 to $1,999,999 (owner occupied)\",\n",
    "                          \"B25075_027E\":\"Housing units with value $2,000,000 or more (owner occupied)\",\n",
    "                          \"B25077_001E\":\" Median housing value ($) - owner occupied units\",\n",
    "                          \"B25064_001E\":\"Median gross rent ($) - renter occupied units\",\n",
    "                          \"NAME\": \"Name\", \"zip code tabulation area\": \"zipcode\"})\n"
   ]
  },
  {
   "cell_type": "code",
   "execution_count": null,
   "metadata": {},
   "outputs": [],
   "source": [
    "\n"
   ]
  },
  {
   "cell_type": "code",
   "execution_count": null,
   "metadata": {},
   "outputs": [],
   "source": [
    "housing_cost_data_df.head()\n"
   ]
  },
  {
   "cell_type": "code",
   "execution_count": null,
   "metadata": {},
   "outputs": [],
   "source": [
    "housing_cost_data_df.to_csv('housing.csv')"
   ]
  },
  {
   "cell_type": "code",
   "execution_count": null,
   "metadata": {},
   "outputs": [],
   "source": []
  },
  {
   "cell_type": "code",
   "execution_count": null,
   "metadata": {},
   "outputs": [],
   "source": []
  }
 ],
 "metadata": {
  "kernelspec": {
   "display_name": "Python 3",
   "language": "python",
   "name": "python3"
  },
  "language_info": {
   "codemirror_mode": {
    "name": "ipython",
    "version": 3
   },
   "file_extension": ".py",
   "mimetype": "text/x-python",
   "name": "python",
   "nbconvert_exporter": "python",
   "pygments_lexer": "ipython3",
   "version": "3.7.1"
  }
 },
 "nbformat": 4,
 "nbformat_minor": 2
}
