{
 "cells": [
  {
   "cell_type": "code",
   "execution_count": 28,
   "metadata": {},
   "outputs": [],
   "source": [
    "# Dependencies\n",
    "import numpy as np\n",
    "import pandas as pd\n",
    "import matplotlib.pyplot as plt\n",
    "import requests\n",
    "from census import Census\n",
    "import gmaps\n",
    "from us import states\n",
    "# Census & gmaps API Keys\n",
    "from config import (api_key, gkey)\n",
    "c = Census(api_key, year=2016)\n",
    "\n",
    "# Configure gmaps\n",
    "gmaps.configure(gkey)\n",
    "\n"
   ]
  },
  {
   "cell_type": "code",
   "execution_count": 103,
   "metadata": {},
   "outputs": [],
   "source": [
    "census_data = c.acs5.get((\"NAME\",\"B01003_001E\",\n",
    "                          \"B19113_001E\",\n",
    "                          \"B19013_001E\",\n",
    "                          \"B19001_017E\",\n",
    "                          \"B25077_001E\",\n",
    "                          \"B25064_001E\"),{'for':'zip code tabulation area:*'})\n",
    "\n"
   ]
  },
  {
   "cell_type": "code",
   "execution_count": 104,
   "metadata": {},
   "outputs": [],
   "source": [
    "# Convert to DataFrame\n",
    "census_pd = pd.DataFrame(census_data)\n",
    "\n",
    "# Column Reordering\n",
    "census_pd = census_pd.rename(columns={\"B01003_001E\": \"Population\",\n",
    "                                     \"B19113_001E\": \"Median family income\",\n",
    "                                     \"B19013_001E\": \"Household Income\",\n",
    "                                     \"B19001_017E\":\"Households with household income $200,000 or more\",\n",
    "                                     \"B25077_001E\": \"Median housing value ($) OOU\",\n",
    "                                     \"B25064_001E\": \"Median gross rent\",\n",
    "                                     \"NAME\": \"Name\", \"zip code tabulation area\": \"zipcode\"})\n"
   ]
  },
  {
   "cell_type": "code",
   "execution_count": null,
   "metadata": {},
   "outputs": [],
   "source": [
    "#clean data"
   ]
  },
  {
   "cell_type": "code",
   "execution_count": 112,
   "metadata": {},
   "outputs": [],
   "source": [
    "census_pd\n",
    "census_pd.to_csv('income.csv')"
   ]
  },
  {
   "cell_type": "code",
   "execution_count": null,
   "metadata": {},
   "outputs": [],
   "source": []
  },
  {
   "cell_type": "code",
   "execution_count": 108,
   "metadata": {},
   "outputs": [],
   "source": [
    "housing_data = c.acs5.get((\"NAME\",\"B25001_001E\",\n",
    "                          'B25002_002E',\n",
    "                          \"B25003_002E\",\n",
    "                          \"B25075_025E\",\n",
    "                          \"B25075_026E\",\n",
    "                          \"B25075_027E\",\n",
    "                          \"B25077_001E\",\n",
    "                          \"B25064_001E\"),{'for':'zip code tabulation area:*'})\n"
   ]
  },
  {
   "cell_type": "code",
   "execution_count": 109,
   "metadata": {},
   "outputs": [],
   "source": [
    "# Convert to DataFrame\n",
    "housing_data_df = pd.DataFrame(housing_data)\n",
    "\n",
    "# Column Reordering\n",
    "housing_data_df = housing_data_df.rename(columns={\"B25001_001E\":\"Total housing units\",\n",
    "                          'B25002_002E':\"Occupied housing units (households)\",\n",
    "                          \"B25003_002E\":\"Owner Occupied housing units\",\n",
    "                          \"B25075_025E\":\"Housing units value $1,000,000 to $1,499,999 (owner occupied)\",\n",
    "                          \"B25075_026E\":\"Housing units with value $1,500,000 to $1,999,999 (owner occupied)\",\n",
    "                          \"B25075_027E\":\"Housing units with value $2,000,000 or more (owner occupied)\",\n",
    "                          \"B25077_001E\":\" Median housing value ($) - owner occupied units\",\n",
    "                          \"B25064_001E\":\"Median gross rent ($) - renter occupied units\",\n",
    "                          \"NAME\": \"Name\", \"zip code tabulation area\": \"zipcode\"})\n"
   ]
  },
  {
   "cell_type": "code",
   "execution_count": 113,
   "metadata": {},
   "outputs": [],
   "source": [
    "housing_data_df.head()\n",
    "housing_data_df.to_csv('housing.csv')"
   ]
  },
  {
   "cell_type": "code",
   "execution_count": null,
   "metadata": {},
   "outputs": [],
   "source": []
  }
 ],
 "metadata": {
  "kernelspec": {
   "display_name": "Python 3",
   "language": "python",
   "name": "python3"
  },
  "language_info": {
   "codemirror_mode": {
    "name": "ipython",
    "version": 3
   },
   "file_extension": ".py",
   "mimetype": "text/x-python",
   "name": "python",
   "nbconvert_exporter": "python",
   "pygments_lexer": "ipython3",
   "version": "3.7.1"
  }
 },
 "nbformat": 4,
 "nbformat_minor": 2
}
