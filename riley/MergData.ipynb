{
 "cells": [
  {
   "cell_type": "code",
   "execution_count": null,
   "metadata": {},
   "outputs": [],
   "source": [
    "#stuff\n",
    "import glob\n",
    "import pandas as pd\n",
    "# read all csv files from API calls output folders\n",
    "# use your path\n",
    "path = r'../Scott/Output'\n",
    "#where the files are located on the local machine\n",
    "yelp_files = glob.glob(path + \"/*.csv\")\n",
    "\n",
    "#create a list for them to fill with the csv data\n",
    "restaurant_info = []\n",
    "#for loop to go through each individual file to collect the json()\n",
    "for filename in yelp_files:\n",
    "    df = pd.read_csv(filename, index_col=None, header=0)\n",
    "    restaurant_info.append(df)\n",
    "#create a dataframe by concat the dictionaries\n",
    "frame = pd.concat(restaurant_info, axis=0, ignore_index=True, sort=False)\n",
    "\n"
   ]
  },
  {
   "cell_type": "code",
   "execution_count": null,
   "metadata": {},
   "outputs": [],
   "source": [
    "yelp_df = pd.DataFrame(frame)\n",
    "yelp_df"
   ]
  },
  {
   "cell_type": "code",
   "execution_count": null,
   "metadata": {},
   "outputs": [],
   "source": [
    "#drop any entries without a zipcode using column =\n",
    "\n",
    "clean_yelp_df=yelp_df[pd.notnull(yelp_df['Zipcode'])]\n",
    "\n",
    "clean_yelp_df.head()\n",
    "\n"
   ]
  },
  {
   "cell_type": "code",
   "execution_count": null,
   "metadata": {},
   "outputs": [],
   "source": [
    "#convert Zipcodes to an integer then to a string so that we can \n",
    "\n",
    "clean_yelp_df[\"Zipcode\"]=clean_yelp_df[\"Zipcode\"].astype(int)\n",
    "\n",
    "clean_yelp_df[\"Zipcode\"]=clean_yelp_df[\"Zipcode\"].astype(str)\n",
    "\n",
    "clean_yelp_df.head()\n",
    "\n",
    "#df.set_index([\"Zipcode\"])"
   ]
  },
  {
   "cell_type": "code",
   "execution_count": null,
   "metadata": {},
   "outputs": [],
   "source": [
    "\n",
    "#save to csv\n",
    "clean_yelp_df.to_csv(\"yelpdata.csv\")\n"
   ]
  },
  {
   "cell_type": "code",
   "execution_count": null,
   "metadata": {},
   "outputs": [],
   "source": [
    "#pull in the incomebyzip.csv\n",
    "incomedf=pd.read_csv(\"incomebyzip.csv\")\n"
   ]
  },
  {
   "cell_type": "code",
   "execution_count": null,
   "metadata": {},
   "outputs": [],
   "source": [
    "incomedf[\"Zipcode\"]=incomedf[\"Zipcode\"].astype(str)\n",
    "incomedf.dtypes"
   ]
  },
  {
   "cell_type": "code",
   "execution_count": null,
   "metadata": {},
   "outputs": [],
   "source": [
    "all_data_df = pd.merge(clean_yelp_df,incomedf, how =\"left\", on=\"Zipcode\")\n",
    "all_data_df"
   ]
  },
  {
   "cell_type": "code",
   "execution_count": null,
   "metadata": {},
   "outputs": [],
   "source": [
    "complete_df = pd.DataFrame({\"Zip Code\":all_data_df[\"Zipcode\"],\n",
    "              \"Price\":all_data_df[\"Price\"],\n",
    "              \"Rating\":all_data_df[\"Rating\"],\n",
    "              \"Num of Households with income $200,000 or more\":all_data_df[\"Households with household income $200,000 or more\"],\n",
    "              \"Median family income\":all_data_df[\"Median family income\"],\n",
    "              \"Percent of households with income over $200,000\":all_data_df[\"Percent of households with income over $200,000\"]})\n",
    "complete_df.head()"
   ]
  },
  {
   "cell_type": "code",
   "execution_count": null,
   "metadata": {},
   "outputs": [],
   "source": [
    "complete_df.to_csv('final_merged_data.csv')"
   ]
  }
 ],
 "metadata": {
  "kernelspec": {
   "display_name": "Python 3",
   "language": "python",
   "name": "python3"
  },
  "language_info": {
   "codemirror_mode": {
    "name": "ipython",
    "version": 3
   },
   "file_extension": ".py",
   "mimetype": "text/x-python",
   "name": "python",
   "nbconvert_exporter": "python",
   "pygments_lexer": "ipython3",
   "version": "3.7.1"
  }
 },
 "nbformat": 4,
 "nbformat_minor": 2
}
