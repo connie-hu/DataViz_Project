{
 "cells": [
  {
   "cell_type": "code",
   "execution_count": 1,
   "metadata": {},
   "outputs": [],
   "source": [
    "import pandas as pd\n",
    "from matplotlib import pyplot as plt\n",
    "from scipy.stats import linregress\n",
    "import numpy as np\n"
   ]
  },
  {
   "cell_type": "code",
   "execution_count": 2,
   "metadata": {},
   "outputs": [],
   "source": [
    "final_data = pd.read_csv('final_merged_data.csv')"
   ]
  },
  {
   "cell_type": "code",
   "execution_count": 3,
   "metadata": {},
   "outputs": [
    {
     "data": {
      "text/html": [
       "<div>\n",
       "<style scoped>\n",
       "    .dataframe tbody tr th:only-of-type {\n",
       "        vertical-align: middle;\n",
       "    }\n",
       "\n",
       "    .dataframe tbody tr th {\n",
       "        vertical-align: top;\n",
       "    }\n",
       "\n",
       "    .dataframe thead th {\n",
       "        text-align: right;\n",
       "    }\n",
       "</style>\n",
       "<table border=\"1\" class=\"dataframe\">\n",
       "  <thead>\n",
       "    <tr style=\"text-align: right;\">\n",
       "      <th></th>\n",
       "      <th>Unnamed: 0</th>\n",
       "      <th>Zip Code</th>\n",
       "      <th>Total GF Rest</th>\n",
       "      <th>Total Number GF $</th>\n",
       "      <th>Total Number GF $$</th>\n",
       "      <th>Total Number GF $$$</th>\n",
       "      <th>Total Number GF $$$$</th>\n",
       "      <th>Num of Households with income $200,000 or more</th>\n",
       "      <th>Median family income</th>\n",
       "      <th>Percent of households with income over $200,000</th>\n",
       "      <th>ALL Total</th>\n",
       "    </tr>\n",
       "  </thead>\n",
       "  <tbody>\n",
       "    <tr>\n",
       "      <th>0</th>\n",
       "      <td>0</td>\n",
       "      <td>90006</td>\n",
       "      <td>26</td>\n",
       "      <td>7</td>\n",
       "      <td>15</td>\n",
       "      <td>2</td>\n",
       "      <td>0</td>\n",
       "      <td>155.0</td>\n",
       "      <td>32273.0</td>\n",
       "      <td>0.795933</td>\n",
       "      <td>217</td>\n",
       "    </tr>\n",
       "    <tr>\n",
       "      <th>1</th>\n",
       "      <td>1</td>\n",
       "      <td>90028</td>\n",
       "      <td>135</td>\n",
       "      <td>37</td>\n",
       "      <td>77</td>\n",
       "      <td>16</td>\n",
       "      <td>1</td>\n",
       "      <td>399.0</td>\n",
       "      <td>45905.0</td>\n",
       "      <td>2.462811</td>\n",
       "      <td>287</td>\n",
       "    </tr>\n",
       "    <tr>\n",
       "      <th>2</th>\n",
       "      <td>2</td>\n",
       "      <td>90032</td>\n",
       "      <td>7</td>\n",
       "      <td>3</td>\n",
       "      <td>4</td>\n",
       "      <td>0</td>\n",
       "      <td>0</td>\n",
       "      <td>268.0</td>\n",
       "      <td>45433.0</td>\n",
       "      <td>1.998658</td>\n",
       "      <td>67</td>\n",
       "    </tr>\n",
       "    <tr>\n",
       "      <th>3</th>\n",
       "      <td>3</td>\n",
       "      <td>90033</td>\n",
       "      <td>7</td>\n",
       "      <td>2</td>\n",
       "      <td>5</td>\n",
       "      <td>0</td>\n",
       "      <td>0</td>\n",
       "      <td>102.0</td>\n",
       "      <td>31595.0</td>\n",
       "      <td>0.774487</td>\n",
       "      <td>140</td>\n",
       "    </tr>\n",
       "    <tr>\n",
       "      <th>4</th>\n",
       "      <td>4</td>\n",
       "      <td>90035</td>\n",
       "      <td>43</td>\n",
       "      <td>5</td>\n",
       "      <td>35</td>\n",
       "      <td>1</td>\n",
       "      <td>0</td>\n",
       "      <td>1922.0</td>\n",
       "      <td>98792.0</td>\n",
       "      <td>14.627093</td>\n",
       "      <td>107</td>\n",
       "    </tr>\n",
       "  </tbody>\n",
       "</table>\n",
       "</div>"
      ],
      "text/plain": [
       "   Unnamed: 0  Zip Code  Total GF Rest  Total Number GF $  Total Number GF $$  \\\n",
       "0           0     90006             26                  7                  15   \n",
       "1           1     90028            135                 37                  77   \n",
       "2           2     90032              7                  3                   4   \n",
       "3           3     90033              7                  2                   5   \n",
       "4           4     90035             43                  5                  35   \n",
       "\n",
       "   Total Number GF $$$  Total Number GF $$$$  \\\n",
       "0                    2                     0   \n",
       "1                   16                     1   \n",
       "2                    0                     0   \n",
       "3                    0                     0   \n",
       "4                    1                     0   \n",
       "\n",
       "   Num of Households with income $200,000 or more  Median family income  \\\n",
       "0                                           155.0               32273.0   \n",
       "1                                           399.0               45905.0   \n",
       "2                                           268.0               45433.0   \n",
       "3                                           102.0               31595.0   \n",
       "4                                          1922.0               98792.0   \n",
       "\n",
       "   Percent of households with income over $200,000  ALL Total  \n",
       "0                                         0.795933        217  \n",
       "1                                         2.462811        287  \n",
       "2                                         1.998658         67  \n",
       "3                                         0.774487        140  \n",
       "4                                        14.627093        107  "
      ]
     },
     "execution_count": 3,
     "metadata": {},
     "output_type": "execute_result"
    }
   ],
   "source": [
    "#cleaning data\n",
    "final_data = final_data.dropna()\n",
    "final_data.head()"
   ]
  },
  {
   "cell_type": "code",
   "execution_count": 4,
   "metadata": {},
   "outputs": [],
   "source": [
    "#calculating percentage of total restaurants that are gluten free\n",
    "final_data[\"Percent of Total Restaurants\"] = final_data[\"Total GF Rest\"]/final_data[\"ALL Total\"]*100"
   ]
  },
  {
   "cell_type": "code",
   "execution_count": 5,
   "metadata": {},
   "outputs": [
    {
     "data": {
      "text/html": [
       "<div>\n",
       "<style scoped>\n",
       "    .dataframe tbody tr th:only-of-type {\n",
       "        vertical-align: middle;\n",
       "    }\n",
       "\n",
       "    .dataframe tbody tr th {\n",
       "        vertical-align: top;\n",
       "    }\n",
       "\n",
       "    .dataframe thead th {\n",
       "        text-align: right;\n",
       "    }\n",
       "</style>\n",
       "<table border=\"1\" class=\"dataframe\">\n",
       "  <thead>\n",
       "    <tr style=\"text-align: right;\">\n",
       "      <th></th>\n",
       "      <th>Unnamed: 0</th>\n",
       "      <th>Zip Code</th>\n",
       "      <th>Total GF Rest</th>\n",
       "      <th>Total Number GF $</th>\n",
       "      <th>Total Number GF $$</th>\n",
       "      <th>Total Number GF $$$</th>\n",
       "      <th>Total Number GF $$$$</th>\n",
       "      <th>Num of Households with income $200,000 or more</th>\n",
       "      <th>Median family income</th>\n",
       "      <th>Percent of households with income over $200,000</th>\n",
       "      <th>ALL Total</th>\n",
       "      <th>Percent of Total Restaurants</th>\n",
       "    </tr>\n",
       "  </thead>\n",
       "  <tbody>\n",
       "    <tr>\n",
       "      <th>0</th>\n",
       "      <td>0</td>\n",
       "      <td>90006</td>\n",
       "      <td>26</td>\n",
       "      <td>7</td>\n",
       "      <td>15</td>\n",
       "      <td>2</td>\n",
       "      <td>0</td>\n",
       "      <td>155.0</td>\n",
       "      <td>32273.0</td>\n",
       "      <td>0.795933</td>\n",
       "      <td>217</td>\n",
       "      <td>11.981567</td>\n",
       "    </tr>\n",
       "    <tr>\n",
       "      <th>1</th>\n",
       "      <td>1</td>\n",
       "      <td>90028</td>\n",
       "      <td>135</td>\n",
       "      <td>37</td>\n",
       "      <td>77</td>\n",
       "      <td>16</td>\n",
       "      <td>1</td>\n",
       "      <td>399.0</td>\n",
       "      <td>45905.0</td>\n",
       "      <td>2.462811</td>\n",
       "      <td>287</td>\n",
       "      <td>47.038328</td>\n",
       "    </tr>\n",
       "    <tr>\n",
       "      <th>2</th>\n",
       "      <td>2</td>\n",
       "      <td>90032</td>\n",
       "      <td>7</td>\n",
       "      <td>3</td>\n",
       "      <td>4</td>\n",
       "      <td>0</td>\n",
       "      <td>0</td>\n",
       "      <td>268.0</td>\n",
       "      <td>45433.0</td>\n",
       "      <td>1.998658</td>\n",
       "      <td>67</td>\n",
       "      <td>10.447761</td>\n",
       "    </tr>\n",
       "    <tr>\n",
       "      <th>3</th>\n",
       "      <td>3</td>\n",
       "      <td>90033</td>\n",
       "      <td>7</td>\n",
       "      <td>2</td>\n",
       "      <td>5</td>\n",
       "      <td>0</td>\n",
       "      <td>0</td>\n",
       "      <td>102.0</td>\n",
       "      <td>31595.0</td>\n",
       "      <td>0.774487</td>\n",
       "      <td>140</td>\n",
       "      <td>5.000000</td>\n",
       "    </tr>\n",
       "    <tr>\n",
       "      <th>4</th>\n",
       "      <td>4</td>\n",
       "      <td>90035</td>\n",
       "      <td>43</td>\n",
       "      <td>5</td>\n",
       "      <td>35</td>\n",
       "      <td>1</td>\n",
       "      <td>0</td>\n",
       "      <td>1922.0</td>\n",
       "      <td>98792.0</td>\n",
       "      <td>14.627093</td>\n",
       "      <td>107</td>\n",
       "      <td>40.186916</td>\n",
       "    </tr>\n",
       "  </tbody>\n",
       "</table>\n",
       "</div>"
      ],
      "text/plain": [
       "   Unnamed: 0  Zip Code  Total GF Rest  Total Number GF $  Total Number GF $$  \\\n",
       "0           0     90006             26                  7                  15   \n",
       "1           1     90028            135                 37                  77   \n",
       "2           2     90032              7                  3                   4   \n",
       "3           3     90033              7                  2                   5   \n",
       "4           4     90035             43                  5                  35   \n",
       "\n",
       "   Total Number GF $$$  Total Number GF $$$$  \\\n",
       "0                    2                     0   \n",
       "1                   16                     1   \n",
       "2                    0                     0   \n",
       "3                    0                     0   \n",
       "4                    1                     0   \n",
       "\n",
       "   Num of Households with income $200,000 or more  Median family income  \\\n",
       "0                                           155.0               32273.0   \n",
       "1                                           399.0               45905.0   \n",
       "2                                           268.0               45433.0   \n",
       "3                                           102.0               31595.0   \n",
       "4                                          1922.0               98792.0   \n",
       "\n",
       "   Percent of households with income over $200,000  ALL Total  \\\n",
       "0                                         0.795933        217   \n",
       "1                                         2.462811        287   \n",
       "2                                         1.998658         67   \n",
       "3                                         0.774487        140   \n",
       "4                                        14.627093        107   \n",
       "\n",
       "   Percent of Total Restaurants  \n",
       "0                     11.981567  \n",
       "1                     47.038328  \n",
       "2                     10.447761  \n",
       "3                      5.000000  \n",
       "4                     40.186916  "
      ]
     },
     "execution_count": 5,
     "metadata": {},
     "output_type": "execute_result"
    }
   ],
   "source": [
    "final_data.head()"
   ]
  },
  {
   "cell_type": "code",
   "execution_count": 11,
   "metadata": {},
   "outputs": [
    {
     "name": "stdout",
     "output_type": "stream",
     "text": [
      "(77, 12)\n"
     ]
    }
   ],
   "source": [
    "#getting rid of \"bad\" data... Gf restaurants cannot account for more than the total number of restaurants\n",
    "final_data = final_data.loc[final_data[\"Percent of Total Restaurants\"]<=100]\n",
    "print(final_data.shape)"
   ]
  },
  {
   "cell_type": "code",
   "execution_count": 8,
   "metadata": {},
   "outputs": [
    {
     "name": "stdout",
     "output_type": "stream",
     "text": [
      "r-squared: 0.337598\n"
     ]
    },
    {
     "data": {
      "text/plain": [
       "Text(0, 0.5, 'Percentage of GF Restaurants')"
      ]
     },
     "execution_count": 8,
     "metadata": {},
     "output_type": "execute_result"
    },
    {
     "data": {
      "image/png": "[encoded data removed]",
      "text/plain": [
       "<Figure size 432x288 with 1 Axes>"
      ]
     },
     "metadata": {
      "needs_background": "light"
     },
     "output_type": "display_data"
    }
   ],
   "source": [
    "x_axis = final_data[\"Median family income\"]\n",
    "y = final_data['Percent of Total Restaurants']\n",
    "\n",
    "\n",
    "\n",
    "(slope, intercept, r_value, p_value, std_err) = linregress(x_axis, y)\n",
    "print(\"r-squared: %f\" % r_value**2)\n",
    "\n",
    "fit = slope * x_axis + intercept\n",
    "\n",
    "# Set line\n",
    "(slope, intercept, _, _, _) = linregress(x_axis, y)\n",
    "fit = slope * x_axis + intercept\n",
    "# Plot data\n",
    "fig, ax = plt.subplots()\n",
    "\n",
    "ax.plot(x_axis, y, linewidth=0, marker='o')\n",
    "ax.plot(x_axis, fit,alpha = 0.5,linestyle = '--', color=\"red\")\n",
    "\n",
    "fig.suptitle(\"Median Income vs. Percentage of GF Restaurants\")\n",
    "ax.set_xlabel(\"Median Income\")\n",
    "ax.set_ylabel(\"Percentage of GF Restaurants\")\n"
   ]
  },
  {
   "cell_type": "code",
   "execution_count": null,
   "metadata": {},
   "outputs": [],
   "source": []
  },
  {
   "cell_type": "code",
   "execution_count": 10,
   "metadata": {},
   "outputs": [
    {
     "name": "stdout",
     "output_type": "stream",
     "text": [
      "r-squared: 0.290926\n"
     ]
    },
    {
     "data": {
      "text/plain": [
       "Text(0, 0.5, 'Percentage of GF Restaurants')"
      ]
     },
     "execution_count": 10,
     "metadata": {},
     "output_type": "execute_result"
    },
    {
     "data": {
      "image/png": "[encoded data removed]",
      "text/plain": [
       "<Figure size 432x288 with 1 Axes>"
      ]
     },
     "metadata": {
      "needs_background": "light"
     },
     "output_type": "display_data"
    }
   ],
   "source": [
    "x_axis = final_data[\"Percent of households with income over $200,000\"]\n",
    "y = final_data['Percent of Total Restaurants']\n",
    "\n",
    "\n",
    "\n",
    "(slope, intercept, r_value, p_value, std_err) = linregress(x_axis, y)\n",
    "print(\"r-squared: %f\" % r_value**2)\n",
    "\n",
    "fit = slope * x_axis + intercept\n",
    "\n",
    "# Set line\n",
    "(slope, intercept, _, _, _) = linregress(x_axis, y)\n",
    "fit = slope * x_axis + intercept\n",
    "# Plot data\n",
    "fig, ax = plt.subplots()\n",
    "\n",
    "ax.plot(x_axis, y, linewidth=0, marker='o')\n",
    "ax.plot(x_axis, fit,alpha = 0.5,linestyle = '--', color=\"red\")\n",
    "\n",
    "fig.suptitle(\"Percent Income over $200,000 vs. Percentage of GF Restaurants\")\n",
    "ax.set_xlabel(\"Percent Income over $200,000\")\n",
    "ax.set_ylabel(\"Percentage of GF Restaurants\")"
   ]
  },
  {
   "cell_type": "code",
   "execution_count": null,
   "metadata": {},
   "outputs": [],
   "source": []
  },
  {
   "cell_type": "code",
   "execution_count": null,
   "metadata": {},
   "outputs": [],
   "source": []
  }
 ],
 "metadata": {
  "kernelspec": {
   "display_name": "Python 3",
   "language": "python",
   "name": "python3"
  },
  "language_info": {
   "codemirror_mode": {
    "name": "ipython",
    "version": 3
   },
   "file_extension": ".py",
   "mimetype": "text/x-python",
   "name": "python",
   "nbconvert_exporter": "python",
   "pygments_lexer": "ipython3",
   "version": "3.7.1"
  }
 },
 "nbformat": 4,
 "nbformat_minor": 2
}
