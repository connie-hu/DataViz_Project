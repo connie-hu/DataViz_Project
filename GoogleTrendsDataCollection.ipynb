{
 "cells": [
  {
   "cell_type": "markdown",
   "metadata": {},
   "source": [
    "# Google Trend Data Collection\n",
    "* There is no official Google Trends API released. This python script is used to convert the downloaded CSV files directly from the Google Trend UI: https://trends.google.com/trends/?geo=US.\n",
    "* Multiple search terms were used and combined/displayed on Google Trends UI before downloading the CSV file."
   ]
  },
  {
   "cell_type": "code",
   "execution_count": 5,
   "metadata": {},
   "outputs": [],
   "source": [
    "# dependencies\n",
    "import csv\n",
    "import pandas as pd\n",
    "import matplotlib.pyplot as plt"
   ]
  },
  {
   "cell_type": "code",
   "execution_count": 10,
   "metadata": {},
   "outputs": [],
   "source": [
    "# read and dsplay google trend data .csv in dataframes\n",
    "\n",
    "file = \"combined_search_terms_SD.csv\"\n",
    "\n",
    "# store the updated file with header removed\n",
    "new_csv = \"cleaned_\" + file"
   ]
  },
  {
   "cell_type": "code",
   "execution_count": 11,
   "metadata": {},
   "outputs": [],
   "source": [
    "# remove header in CSV file and write it to new_csv\n",
    "with open(file,'r') as f:\n",
    "    with open(new_csv,'w') as f1:\n",
    "        f.readline() # skip header line\n",
    "        for line in f:\n",
    "            f1.write(line)"
   ]
  },
  {
   "cell_type": "code",
   "execution_count": 12,
   "metadata": {},
   "outputs": [
    {
     "data": {
      "text/html": [
       "<div>\n",
       "<style scoped>\n",
       "    .dataframe tbody tr th:only-of-type {\n",
       "        vertical-align: middle;\n",
       "    }\n",
       "\n",
       "    .dataframe tbody tr th {\n",
       "        vertical-align: top;\n",
       "    }\n",
       "\n",
       "    .dataframe thead th {\n",
       "        text-align: right;\n",
       "    }\n",
       "</style>\n",
       "<table border=\"1\" class=\"dataframe\">\n",
       "  <thead>\n",
       "    <tr style=\"text-align: right;\">\n",
       "      <th></th>\n",
       "      <th>Month</th>\n",
       "      <th>gluten free near me: (San Diego CA)</th>\n",
       "      <th>Wheat gluten: (San Diego CA)</th>\n",
       "      <th>gluten free restaurants near me: (San Diego CA)</th>\n",
       "      <th>Gluten: (San Diego CA)</th>\n",
       "      <th>Celiac disease: (San Diego CA)</th>\n",
       "    </tr>\n",
       "  </thead>\n",
       "  <tbody>\n",
       "    <tr>\n",
       "      <th>0</th>\n",
       "      <td>2004-01</td>\n",
       "      <td>0</td>\n",
       "      <td>0</td>\n",
       "      <td>0</td>\n",
       "      <td>10</td>\n",
       "      <td>10</td>\n",
       "    </tr>\n",
       "    <tr>\n",
       "      <th>1</th>\n",
       "      <td>2004-02</td>\n",
       "      <td>0</td>\n",
       "      <td>0</td>\n",
       "      <td>0</td>\n",
       "      <td>13</td>\n",
       "      <td>0</td>\n",
       "    </tr>\n",
       "    <tr>\n",
       "      <th>2</th>\n",
       "      <td>2004-03</td>\n",
       "      <td>0</td>\n",
       "      <td>0</td>\n",
       "      <td>0</td>\n",
       "      <td>16</td>\n",
       "      <td>7</td>\n",
       "    </tr>\n",
       "    <tr>\n",
       "      <th>3</th>\n",
       "      <td>2004-04</td>\n",
       "      <td>0</td>\n",
       "      <td>0</td>\n",
       "      <td>0</td>\n",
       "      <td>5</td>\n",
       "      <td>10</td>\n",
       "    </tr>\n",
       "    <tr>\n",
       "      <th>4</th>\n",
       "      <td>2004-05</td>\n",
       "      <td>0</td>\n",
       "      <td>4</td>\n",
       "      <td>0</td>\n",
       "      <td>6</td>\n",
       "      <td>9</td>\n",
       "    </tr>\n",
       "  </tbody>\n",
       "</table>\n",
       "</div>"
      ],
      "text/plain": [
       "     Month gluten free near me: (San Diego CA)  Wheat gluten: (San Diego CA)  \\\n",
       "0  2004-01                                   0                             0   \n",
       "1  2004-02                                   0                             0   \n",
       "2  2004-03                                   0                             0   \n",
       "3  2004-04                                   0                             0   \n",
       "4  2004-05                                   0                             4   \n",
       "\n",
       "  gluten free restaurants near me: (San Diego CA)  Gluten: (San Diego CA)  \\\n",
       "0                                               0                      10   \n",
       "1                                               0                      13   \n",
       "2                                               0                      16   \n",
       "3                                               0                       5   \n",
       "4                                               0                       6   \n",
       "\n",
       "   Celiac disease: (San Diego CA)  \n",
       "0                              10  \n",
       "1                               0  \n",
       "2                               7  \n",
       "3                              10  \n",
       "4                               9  "
      ]
     },
     "execution_count": 12,
     "metadata": {},
     "output_type": "execute_result"
    }
   ],
   "source": [
    "# return as a dataframe\n",
    "\n",
    "trends_df = pd.read_csv(new_csv)\n",
    "\n",
    "trends_df.head()"
   ]
  },
  {
   "cell_type": "code",
   "execution_count": null,
   "metadata": {},
   "outputs": [],
   "source": []
  }
 ],
 "metadata": {
  "kernelspec": {
   "display_name": "Python 3",
   "language": "python",
   "name": "python3"
  },
  "language_info": {
   "codemirror_mode": {
    "name": "ipython",
    "version": 3
   },
   "file_extension": ".py",
   "mimetype": "text/x-python",
   "name": "python",
   "nbconvert_exporter": "python",
   "pygments_lexer": "ipython3",
   "version": "3.6.4"
  }
 },
 "nbformat": 4,
 "nbformat_minor": 2
}
