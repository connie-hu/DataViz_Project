{
 "cells": [
  {
   "cell_type": "markdown",
   "metadata": {},
   "source": [
    "QUESTION 1 Part1: (Connie)\n",
    "Libraries: gmaps, arcGIS, etc\n",
    "\n",
    "Is there a relationship between overall income vs. the amount of access?\n",
    "\n",
    "Maps: 1-2. Pick two area codes in San Diego county (92104 and 92113) Mark median income on the Surface area and then plot the restaurants as points ... To \"illustrate\" the issue 92104, 92113 (income twice as much yet 3 times more GF restaurants)-- from individual zip code files.\n",
    "\n",
    "(3 dimensional axis data - surface area (zipcode area GIS), points as restaurants and height as income levels)\n"
   ]
  },
  {
   "cell_type": "code",
   "execution_count": null,
   "metadata": {},
   "outputs": [],
   "source": []
  }
 ],
 "metadata": {
  "kernelspec": {
   "display_name": "Python 3",
   "language": "python",
   "name": "python3"
  },
  "language_info": {
   "codemirror_mode": {
    "name": "ipython",
    "version": 3
   },
   "file_extension": ".py",
   "mimetype": "text/x-python",
   "name": "python",
   "nbconvert_exporter": "python",
   "pygments_lexer": "ipython3",
   "version": "3.6.4"
  }
 },
 "nbformat": 4,
 "nbformat_minor": 2
}
