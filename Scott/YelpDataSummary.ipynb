{
 "cells": [
  {
   "cell_type": "markdown",
   "metadata": {},
   "source": [
    "### Yelp Data Summary\n",
    "The data collection stores one csv file for each zip code and it is placed in the \"Output\" folder.  The naming convention of these files is \"YelpData_<SearchZipCode>.csv\".  The code does the following:\n",
    "    1 Gets a list of the files within the \"Output\" folder\n",
    "    2 Loops through the files that start with \"YelpData\" and does the following:\n",
    "      2.1 Read the file into Pandas DataFrame\n",
    "      2.2 Summarize data; get total records\n",
    "      2.3 Summarize data; get total records the different rating\n",
    "      2.4 Summarize data; get total records for the different prices\n",
    "    3 All of the summarized data are stored in DataFrame\n",
    "    4 Summarized DataFrame is stored on disk; name \"SummarizedYelpData.csv\"\n",
    "    5 Create DataFrame with all of the zip code data and save to disk; named \"YelpData.csv\"\n",
    "    "
   ]
  },
  {
   "cell_type": "code",
   "execution_count": 2,
   "metadata": {},
   "outputs": [],
   "source": [
    "#-- Import Libraries\n",
    "import pandas as pd\n",
    "import os"
   ]
  },
  {
   "cell_type": "code",
   "execution_count": 3,
   "metadata": {
    "scrolled": true
   },
   "outputs": [
    {
     "ename": "NameError",
     "evalue": "name 'fileName' is not defined",
     "output_type": "error",
     "traceback": [
      "\u001b[0;31m---------------------------------------------------------------------------\u001b[0m",
      "\u001b[0;31mNameError\u001b[0m                                 Traceback (most recent call last)",
      "\u001b[0;32m<ipython-input-3-c10a424a95dd>\u001b[0m in \u001b[0;36m<module>\u001b[0;34m\u001b[0m\n\u001b[1;32m     13\u001b[0m \u001b[0;34m\u001b[0m\u001b[0m\n\u001b[1;32m     14\u001b[0m         \u001b[0;31m#- Get DataFrame\u001b[0m\u001b[0;34m\u001b[0m\u001b[0;34m\u001b[0m\u001b[0;34m\u001b[0m\u001b[0m\n\u001b[0;32m---> 15\u001b[0;31m         \u001b[0mfilePath\u001b[0m \u001b[0;34m=\u001b[0m \u001b[0mos\u001b[0m\u001b[0;34m.\u001b[0m\u001b[0mpath\u001b[0m\u001b[0;34m.\u001b[0m\u001b[0mjoin\u001b[0m\u001b[0;34m(\u001b[0m\u001b[0;34m\".\"\u001b[0m\u001b[0;34m,\u001b[0m \u001b[0;34m\"Output\"\u001b[0m\u001b[0;34m,\u001b[0m \u001b[0mfileName\u001b[0m\u001b[0;34m)\u001b[0m\u001b[0;34m\u001b[0m\u001b[0;34m\u001b[0m\u001b[0m\n\u001b[0m\u001b[1;32m     16\u001b[0m \u001b[0;34m\u001b[0m\u001b[0m\n\u001b[1;32m     17\u001b[0m         \u001b[0mzipCodeYelpData_df\u001b[0m \u001b[0;34m=\u001b[0m \u001b[0mpd\u001b[0m\u001b[0;34m.\u001b[0m\u001b[0mread_csv\u001b[0m\u001b[0;34m(\u001b[0m\u001b[0mfilePath\u001b[0m\u001b[0;34m)\u001b[0m\u001b[0;34m\u001b[0m\u001b[0;34m\u001b[0m\u001b[0m\n",
      "\u001b[0;31mNameError\u001b[0m: name 'fileName' is not defined"
     ]
    }
   ],
   "source": [
    "#-- Get List of Files on Disk\n",
    "outputPath = os.path.join(\".\", \"Output\")\n",
    "\n",
    "files = os.listdir(outputPath)\n",
    "\n",
    "\n",
    "#-- Load into Single DataFrame\n",
    "yelpData_df = None\n",
    "\n",
    "for file in files:\n",
    "    \n",
    "    if (file.startswith(\"YelpData_\") == True):\n",
    "        \n",
    "        #- Get DataFrame\n",
    "        filePath = os.path.join(\".\", \"Output\", file)\n",
    "    \n",
    "        zipCodeYelpData_df = pd.read_csv(filePath)\n",
    "        \n",
    "        \n",
    "        if (yelpData_df == None):\n",
    "            yelpData_df = zipCodeYelpData_df\n",
    "            \n",
    "        else:\n",
    "            yelpData_df = pd.concat(zipCodeYelpData_df, yelpData_df)\n",
    "        \n",
    "        \n",
    "        \n",
    "       \n",
    "    "
   ]
  },
  {
   "cell_type": "code",
   "execution_count": 18,
   "metadata": {},
   "outputs": [],
   "source": [
    "def getSummarizedYelpData(fileName):\n",
    "    '''\n",
    "    \n",
    "    Accepts : filePath (str) path to the csv that contains the information for the zipcode\n",
    "    \n",
    "    Returns : (dictionary) contains the results from Yelp data\n",
    "                \"df\" - DataFrame from the csv file\n",
    "                \"summary\" - dictionary that contains the summary information\n",
    "                    \"TotalRecords\" - total number of records for zip code\n",
    "                    \"Rating_$\" \n",
    "                    \"Rating_$$\"\n",
    "                    \"Rating_$$$\"\n",
    "                    \"Rating_$$$\"\n",
    "                    \"Rating_NA\"\n",
    "                    \n",
    "    '''\n",
    "    \n",
    "    #-- Read File\n",
    "    filePath = os.path.join(\".\", \"Output\", fileName)\n",
    "    \n",
    "    yelpData_df = pd.read_csv(filePath)\n",
    "    \n",
    "    \n",
    "    #-- Summarize Data\n",
    "    \n",
    "    \n",
    "    \n",
    "    \n",
    "    \n",
    "    \n",
    "    #-- Create Result Dictionary\n",
    "    # Used to return multiple objects to calling function\n",
    "    results = {\n",
    "        \"df\": yelpData_df\n",
    "    }\n",
    "    \n",
    "    return results\n"
   ]
  },
  {
   "cell_type": "code",
   "execution_count": null,
   "metadata": {},
   "outputs": [],
   "source": []
  }
 ],
 "metadata": {
  "kernelspec": {
   "display_name": "Python 3",
   "language": "python",
   "name": "python3"
  },
  "language_info": {
   "codemirror_mode": {
    "name": "ipython",
    "version": 3
   },
   "file_extension": ".py",
   "mimetype": "text/x-python",
   "name": "python",
   "nbconvert_exporter": "python",
   "pygments_lexer": "ipython3",
   "version": "3.7.1"
  }
 },
 "nbformat": 4,
 "nbformat_minor": 2
}
