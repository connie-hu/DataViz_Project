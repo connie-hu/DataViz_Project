{
 "cells": [
  {
   "cell_type": "markdown",
   "metadata": {},
   "source": [
    "### YelpDataCollection\n",
    "Queries the Yelp search API to get those businesses that 'gluten_free' category for a given zip code.  \n",
    "https://www.yelp.com/developers/documentation/v3/business_search"
   ]
  },
  {
   "cell_type": "code",
   "execution_count": 1,
   "metadata": {},
   "outputs": [],
   "source": [
    "#-- Import Libraries\n",
    "import pandas as pd\n",
    "import os\n",
    "import requests\n",
    "\n",
    "# Yelp API key in secrets.py; .gitignore prevents the secrets.py from being pushed to GitHub\n",
    "from secrets import yelpKey"
   ]
  },
  {
   "cell_type": "code",
   "execution_count": null,
   "metadata": {},
   "outputs": [],
   "source": []
  },
  {
   "cell_type": "code",
   "execution_count": 39,
   "metadata": {},
   "outputs": [
    {
     "name": "stdout",
     "output_type": "stream",
     "text": [
      "Completed\n",
      "{'ID': ['s0cB3tbz7Or92UDwaaghhA', 'adkvXHvlf4PfMOJ8_e8epQ', '0JmO9IUPf4qHa-lqTe8c3Q', 'ks_XOXJJmsCTqmyZZHTk8A', 'Gjs4FZmQqLTTuorCy41D3w', 'T_Zfp6uwrV2zrWBTVApCZg', 'NU2k-TpC5uqgj2yIsWGxKw', 'ddHJApklHi51XofnVVgp1g', '3N7CChoUi8dGs7wchVlsiA', 'D5Cf5YgVswOVQYvPwPul8Q', 'mqIH4Vhg6raicv-v2Bbk6w'], 'Name': ['Civico 1845', 'Paleo Treats', 'Curryosity', 'Starry Lane Bakery', 'Pavona Dolci', 'Cueva Bar', 'Red House Pizza', 'Nozaru Ramen Bar', \"Ike's Love and Sandwiches\", 'Monello', 'Jyoti-Bihanga'], 'Zipcode': ['92101', '92116', '92104', '92103', '92103', '92116', '92116', '92116', '92103', '92101', '92116'], 'Latitude': [32.7243133815557, 32.7621882, 32.72948, 32.7489336107359, 32.7469863891602, 32.7626951, 32.7613974055798, 32.76309, 32.748715, 32.7244334, 32.7632461], 'Longitude': [-117.168417719217, -117.1304338, -117.12927, -117.161455637243, -117.161323547363, -117.1418996, -117.146126797687, -117.1212, -117.154848, -117.1690214, -117.1216363], 'Price': ['$$', '$', 0, '$', 0, '$$', '$$', '$$', '$$', '$$', '$$'], 'Rating': [4.5, 5.0, 4.0, 4.5, 5.0, 4.5, 4.5, 4.0, 4.5, 4.0, 4.5]}\n"
     ]
    }
   ],
   "source": [
    "#-- Prepare Request\n",
    "\n",
    "# Zip Code to search\n",
    "# Able to pass this as function in future\n",
    "searchZipCode = \"92104\"\n",
    "\n",
    "\n",
    "yelpDataForZipCode = getDataForZipcode(searchZipCode)\n",
    "\n",
    "print('Completed')\n",
    "print(yelpDataForZipCode)\n"
   ]
  },
  {
   "cell_type": "code",
   "execution_count": 35,
   "metadata": {},
   "outputs": [],
   "source": [
    "def getDataForZipcode(searchZipCode):\n",
    "    '''\n",
    "    \n",
    "    '''\n",
    "\n",
    "    # Source Url\n",
    "    baseYelpUrl = \"https://api.yelp.com/v3/businesses/search\"\n",
    "\n",
    "    # API Key passed through header\n",
    "    headers = {\n",
    "            'Authorization': 'Bearer %s' % yelpKey,\n",
    "    }\n",
    "    \n",
    "    # Search Term\n",
    "    searchTerm = 'gluten_free'\n",
    "    \n",
    "    # Dictionary stores data\n",
    "    yelpData = {\n",
    "        'ID': [],\n",
    "        'Name': [],\n",
    "        'Zipcode': [],\n",
    "        'Latitude': [],\n",
    "        'Longitude': [],\n",
    "        'Price' : [],\n",
    "        'Rating' : []\n",
    "    }\n",
    "    \n",
    "    \n",
    "    recordLimit = 50\n",
    "    currentOffset = 0\n",
    "    hasMoreData = True\n",
    "    \n",
    "    while hasMoreData == True:\n",
    "           \n",
    "        parameters = {\n",
    "            'location': searchZipCode,\n",
    "            'term': 'gluten_free',\n",
    "            'limit': recordLimit,\n",
    "            'radius': 5000,\n",
    "            'offset': currentOffset,\n",
    "            }\n",
    "        \n",
    "        response = requests.request('GET', baseYelpUrl, headers=headers, params=parameters)\n",
    "        \n",
    "        #- Check Response\n",
    "        if (response.status_code == requests.codes.ok):\n",
    "            \n",
    "            # Get Json from Response\n",
    "            responseJson = response.json()\n",
    "            \n",
    "            \n",
    "            # Search Businesses\n",
    "            for business in responseJson['businesses']:\n",
    "                \n",
    "                useBusiness = checkBusinessForUsage(business, searchZipCode, searchTerm)\n",
    "                \n",
    "                if (useBusiness == True):\n",
    "                    \n",
    "                    yelpData['ID'].append(business['id'])\n",
    "                    yelpData['Name'].append(business['name'])\n",
    "                    yelpData['Zipcode'].append(business['location']['zip_code'])\n",
    "                    \n",
    "                    yelpData['Latitude'].append(business['coordinates']['latitude'])\n",
    "                    yelpData['Longitude'].append(business['coordinates']['longitude'])\n",
    "                    \n",
    "                    yelpData['Price'].append(getPriceForBusiness(business))\n",
    "                    yelpData['Rating'].append(business['rating'])\n",
    "                \n",
    "                \n",
    "        \n",
    "        hasMoreData = False\n",
    "    \n",
    "    \n",
    "    \n",
    "    return yelpData\n"
   ]
  },
  {
   "cell_type": "code",
   "execution_count": 38,
   "metadata": {},
   "outputs": [],
   "source": [
    "def checkBusinessForUsage(businessInfo, searchZipcode, searchTerm):\n",
    "    ''' Determines if the business can be used in the Analysis\n",
    "    \n",
    "    Accepts : businessInfo (dictionary) contains the metadata for individual business \n",
    "                searchZipCode (str) zip code searching for data within\n",
    "                searchTerm (str) category used with the search; ensure found\n",
    "    \n",
    "    Return : bool TRUE- business meets critera, able to use FALSE- unable to use business\n",
    "    '''\n",
    "    \n",
    "    #- Check Within Search Zipcode\n",
    "    businessZipCode = businessInfo['location']['zip_code']\n",
    "    \n",
    "#     if (businessZipCode != searchZipcode):\n",
    "#         return False\n",
    "    \n",
    "    \n",
    "    #- Check Search Term\n",
    "    foundSearchTerm = False\n",
    "    \n",
    "    for category in businessInfo['categories']:\n",
    "        \n",
    "        if (category['alias'] == searchTerm):\n",
    "            foundSearchTerm = True\n",
    "            break\n",
    "    \n",
    "    \n",
    "    return foundSearchTerm\n",
    "     "
   ]
  },
  {
   "cell_type": "code",
   "execution_count": 29,
   "metadata": {},
   "outputs": [],
   "source": [
    "def getPriceForBusiness(businessInfo):\n",
    "    ''' Gets the price for a business; not all businesses contain this property within the JSON;\n",
    "    when not found just uses 0.\n",
    "    \n",
    "    Accepts : businessInfo (dictionary) metadata on an individual business\n",
    "    \n",
    "    Returns : (num) value from price tag\n",
    "    '''\n",
    "    \n",
    "    try:\n",
    "        \n",
    "        return businessInfo['price']\n",
    "    \n",
    "    except:\n",
    "        return 0"
   ]
  },
  {
   "cell_type": "code",
   "execution_count": null,
   "metadata": {},
   "outputs": [],
   "source": []
  }
 ],
 "metadata": {
  "kernelspec": {
   "display_name": "Python 3",
   "language": "python",
   "name": "python3"
  },
  "language_info": {
   "codemirror_mode": {
    "name": "ipython",
    "version": 3
   },
   "file_extension": ".py",
   "mimetype": "text/x-python",
   "name": "python",
   "nbconvert_exporter": "python",
   "pygments_lexer": "ipython3",
   "version": "3.7.1"
  }
 },
 "nbformat": 4,
 "nbformat_minor": 2
}
