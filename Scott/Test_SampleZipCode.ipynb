{
 "cells": [
  {
   "cell_type": "markdown",
   "metadata": {},
   "source": [
    "### Test: Sample Zip Code\n",
    "Creates a output file that contains a few zip codes for testing.  Created new notebook to ensure not to create conflict with the ZipCodeFinal.ipynb"
   ]
  },
  {
   "cell_type": "code",
   "execution_count": 2,
   "metadata": {},
   "outputs": [
    {
     "name": "stdout",
     "output_type": "stream",
     "text": [
      "['22193', '80328', '33890', '29206', '79377', '58801', '77376', '61761', '78739', '78338']\n"
     ]
    }
   ],
   "source": [
    "import pandas as pd\n",
    "import barnum\n",
    "\n",
    "numTimes = 10\n",
    "zip_codes = []\n",
    "\n",
    "for counter in range(numTimes):\n",
    "    zip_codes.append(barnum.create_city_state_zip()[0])\n",
    "    \n",
    "print(zip_codes)\n",
    "\n",
    "\n",
    "zip_code_list = pd.DataFrame(zip_codes)\n",
    "\n",
    "zip_code_list.columns = [\"Zip Codes\"]\n",
    "\n",
    "\n",
    "\n",
    "#- Save to CSV\n",
    "import os\n",
    "\n",
    "exportPath = os.path.join(\".\", \"Output\", \"RandomZipCodes.csv\")\n",
    "\n",
    "zip_code_list.to_csv(exportPath)\n"
   ]
  },
  {
   "cell_type": "code",
   "execution_count": null,
   "metadata": {},
   "outputs": [],
   "source": []
  }
 ],
 "metadata": {
  "kernelspec": {
   "display_name": "Python 3",
   "language": "python",
   "name": "python3"
  },
  "language_info": {
   "codemirror_mode": {
    "name": "ipython",
    "version": 3
   },
   "file_extension": ".py",
   "mimetype": "text/x-python",
   "name": "python",
   "nbconvert_exporter": "python",
   "pygments_lexer": "ipython3",
   "version": "3.7.1"
  }
 },
 "nbformat": 4,
 "nbformat_minor": 2
}
