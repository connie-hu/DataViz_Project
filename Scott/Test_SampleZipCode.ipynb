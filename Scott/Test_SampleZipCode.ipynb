{
 "cells": [
  {
   "cell_type": "markdown",
   "metadata": {},
   "source": [
    "### Test: Sample Zip Code\n",
    "Creates a output file that contains a few zip codes for testing.  Created new notebook to ensure not to create conflict with the ZipCodeFinal.ipynb"
   ]
  },
  {
   "cell_type": "code",
   "execution_count": 2,
   "metadata": {},
   "outputs": [
    {
     "name": "stdout",
     "output_type": "stream",
     "text": [
      "['91322', '30307', '04975', '15354', '29417', '07507', '97361', '89141', '48342', '22945', '28616', '60164', '60304', '36862', '44070', '26294', '30022', '92153', '66054', '62075', '51432', '50124', '28080', '39286', '33004', '94974', '77255', '15537', '61748', '23460', '99213', '26691', '92134', '45302', '47367', '96128', '18248', '74865', '74152', '30746', '23060', '43036', '52046', '05776', '04019', '57630', '99581', '76354', '71913', '45369', '84667', '74012', '04228', '25111', '23467', '23541', '12078', '74865', '73403', '62561', '38069', '97306', '79081', '19395', '44301', '75020', '99750', '59480', '11709', '20579', '37015', '95364', '19609', '55551', '99653', '20403', '01222', '69029', '63736', '45050', '35006', '57770', '25986', '91423', '37873', '96765', '18954', '14511', '59875', '96084', '83846', '65022', '90670', '03755', '44428', '52222', '53924', '34241', '24831', '42762']\n"
     ]
    }
   ],
   "source": [
    "import pandas as pd\n",
    "import barnum\n",
    "\n",
    "numTimes = 100\n",
    "zip_codes = []\n",
    "\n",
    "for counter in range(numTimes):\n",
    "    zip_codes.append(barnum.create_city_state_zip()[0])\n",
    "    \n",
    "print(zip_codes)\n",
    "\n",
    "\n",
    "zip_code_list = pd.DataFrame(zip_codes)\n",
    "\n",
    "zip_code_list.columns = [\"Zip Codes\"]\n",
    "\n",
    "\n",
    "\n",
    "#- Save to CSV\n",
    "import os\n",
    "\n",
    "userName = 'Connie'\n",
    "fileName = f'RandomZipCodes_{userName}.csv'\n",
    "\n",
    "exportPath = os.path.join(\".\", \"Output\", fileName)\n",
    "\n",
    "zip_code_list.to_csv(exportPath)\n"
   ]
  },
  {
   "cell_type": "code",
   "execution_count": null,
   "metadata": {},
   "outputs": [],
   "source": []
  }
 ],
 "metadata": {
  "kernelspec": {
   "display_name": "Python 3",
   "language": "python",
   "name": "python3"
  },
  "language_info": {
   "codemirror_mode": {
    "name": "ipython",
    "version": 3
   },
   "file_extension": ".py",
   "mimetype": "text/x-python",
   "name": "python",
   "nbconvert_exporter": "python",
   "pygments_lexer": "ipython3",
   "version": "3.6.4"
  }
 },
 "nbformat": 4,
 "nbformat_minor": 2
}
