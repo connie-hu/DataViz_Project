{
 "cells": [
  {
   "cell_type": "markdown",
   "metadata": {},
   "source": [
    "### Test: Sample Zip Code\n",
    "Creates a output file that contains a few zip codes for testing.  Created new notebook to ensure not to create conflict with the ZipCodeFinal.ipynb"
   ]
  },
  {
   "cell_type": "code",
   "execution_count": 12,
   "metadata": {},
   "outputs": [
    {
     "name": "stdout",
     "output_type": "stream",
     "text": [
      "['02878', '44875', '97442']\n"
     ]
    }
   ],
   "source": [
    "import pandas as pd\n",
    "import barnum\n",
    "\n",
    "numTimes = 3\n",
    "zip_codes = []\n",
    "\n",
    "for counter in range(numTimes):\n",
    "    zip_codes.append(barnum.create_city_state_zip()[0])\n",
    "    \n",
    "print(zip_codes)\n",
    "\n",
    "\n",
    "zip_code_list = pd.DataFrame(zip_codes)\n",
    "\n",
    "zip_code_list.columns = [\"Zip Codes\"]\n",
    "\n",
    "\n",
    "\n",
    "#- Save to CSV\n",
    "import os\n",
    "\n",
    "userName = 'Scott'\n",
    "fileName = f'RandomZipCodes_{userName}.csv'\n",
    "\n",
    "exportPath = os.path.join(\".\", \"Output_2\", fileName)\n",
    "\n",
    "zip_code_list.to_csv(exportPath)\n"
   ]
  },
  {
   "cell_type": "code",
   "execution_count": null,
   "metadata": {},
   "outputs": [],
   "source": []
  },
  {
   "cell_type": "code",
   "execution_count": null,
   "metadata": {},
   "outputs": [],
   "source": []
  }
 ],
 "metadata": {
  "kernelspec": {
   "display_name": "Python 3",
   "language": "python",
   "name": "python3"
  },
  "language_info": {
   "codemirror_mode": {
    "name": "ipython",
    "version": 3
   },
   "file_extension": ".py",
   "mimetype": "text/x-python",
   "name": "python",
   "nbconvert_exporter": "python",
   "pygments_lexer": "ipython3",
   "version": "3.7.1"
  }
 },
 "nbformat": 4,
 "nbformat_minor": 2
}
