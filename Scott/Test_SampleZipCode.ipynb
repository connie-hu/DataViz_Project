{
 "cells": [
  {
   "cell_type": "markdown",
   "metadata": {},
   "source": [
    "### Test: Sample Zip Code\n",
    "Creates a output file that contains a few zip codes for testing.  Created new notebook to ensure not to create conflict with the ZipCodeFinal.ipynb"
   ]
  },
  {
   "cell_type": "code",
   "execution_count": 4,
   "metadata": {},
   "outputs": [
    {
     "name": "stdout",
     "output_type": "stream",
     "text": [
      "['27624', '17549', '91334', '38015', '20732', '59244', '15077', '58235', '65727', '38181', '89822', '77592', '76063', '76564', '77273', '98953', '97378', '39562', '18202', '36750', '40751', '74421', '67854', '04939', '49616', '54247', '58833', '53130', '23966', '52341', '11789', '56003', '94591', '36540', '33269', '27102', '66960', '57231', '07450', '78604', '89047', '35554', '80903', '41065', '72917', '88421', '54871', '50174', '15456', '77478']\n"
     ]
    }
   ],
   "source": [
    "import pandas as pd\n",
    "import barnum\n",
    "\n",
    "numTimes = 50\n",
    "zip_codes = []\n",
    "\n",
    "for counter in range(numTimes):\n",
    "    zip_codes.append(barnum.create_city_state_zip()[0])\n",
    "    \n",
    "print(zip_codes)\n",
    "\n",
    "\n",
    "zip_code_list = pd.DataFrame(zip_codes)\n",
    "\n",
    "zip_code_list.columns = [\"Zip Codes\"]\n",
    "\n",
    "\n",
    "\n",
    "#- Save to CSV\n",
    "import os\n",
    "\n",
    "userName = 'Scott'\n",
    "fileName = f'RandomZipCodes_{userName}.csv'\n",
    "\n",
    "exportPath = os.path.join(\".\", \"Output\", fileName)\n",
    "\n",
    "zip_code_list.to_csv(exportPath)\n"
   ]
  },
  {
   "cell_type": "code",
   "execution_count": null,
   "metadata": {},
   "outputs": [],
   "source": []
  }
 ],
 "metadata": {
  "kernelspec": {
   "display_name": "Python 3",
   "language": "python",
   "name": "python3"
  },
  "language_info": {
   "codemirror_mode": {
    "name": "ipython",
    "version": 3
   },
   "file_extension": ".py",
   "mimetype": "text/x-python",
   "name": "python",
   "nbconvert_exporter": "python",
   "pygments_lexer": "ipython3",
   "version": "3.7.1"
  }
 },
 "nbformat": 4,
 "nbformat_minor": 2
}
