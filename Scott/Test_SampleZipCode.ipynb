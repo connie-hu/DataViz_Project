{
 "cells": [
  {
   "cell_type": "markdown",
   "metadata": {},
   "source": [
    "### Test: Sample Zip Code\n",
    "Creates a output file that contains a few zip codes for testing.  Created new notebook to ensure not to create conflict with the ZipCodeFinal.ipynb"
   ]
  },
  {
   "cell_type": "code",
   "execution_count": 1,
   "metadata": {},
   "outputs": [
    {
     "name": "stdout",
     "output_type": "stream",
     "text": [
      "['03752', '12204', '47139', '77868', '55951', '94512', '56343', '75219', '33340', '61750', '01931', '71631', '43935', '37640', '28379', '99361', '04275', '88040', '77581', '52595', '77388', '64601', '58725', '54457', '26415', '61730', '33015', '65083', '94571', '66061', '55115', '04004', '04224', '24330', '21205', '44143', '01270', '90301', '04091', '04033', '61422', '70717', '61336', '04730', '97294', '80236', '49063', '15110', '13101', '68064']\n"
     ]
    }
   ],
   "source": [
    "import pandas as pd\n",
    "import barnum\n",
    "\n",
    "numTimes = 50\n",
    "zip_codes = []\n",
    "\n",
    "for counter in range(numTimes):\n",
    "    zip_codes.append(barnum.create_city_state_zip()[0])\n",
    "    \n",
    "print(zip_codes)\n",
    "\n",
    "\n",
    "zip_code_list = pd.DataFrame(zip_codes)\n",
    "\n",
    "zip_code_list.columns = [\"Zip Codes\"]\n",
    "\n",
    "\n",
    "\n",
    "#- Save to CSV\n",
    "import os\n",
    "\n",
    "userName = 'Riley'\n",
    "fileName = f'RandomZipCodes_{userName}.csv'\n",
    "\n",
    "exportPath = os.path.join(\".\", \"Output\", fileName)\n",
    "\n",
    "zip_code_list.to_csv(exportPath)\n"
   ]
  },
  {
   "cell_type": "code",
   "execution_count": null,
   "metadata": {},
   "outputs": [],
   "source": []
  }
 ],
 "metadata": {
  "kernelspec": {
   "display_name": "Python 3",
   "language": "python",
   "name": "python3"
  },
  "language_info": {
   "codemirror_mode": {
    "name": "ipython",
    "version": 3
   },
   "file_extension": ".py",
   "mimetype": "text/x-python",
   "name": "python",
   "nbconvert_exporter": "python",
   "pygments_lexer": "ipython3",
   "version": "3.7.1"
  }
 },
 "nbformat": 4,
 "nbformat_minor": 2
}
